{
 "cells": [
  {
   "cell_type": "markdown",
   "metadata": {},
   "source": [
    "## Crawler\n",
    "\n"
   ]
  },
  {
   "cell_type": "markdown",
   "metadata": {},
   "source": [
    "### Selenium 사용\n",
    "\n",
    "#### 불필요한게 있을 수 있음."
   ]
  },
  {
   "cell_type": "code",
   "execution_count": null,
   "metadata": {},
   "outputs": [],
   "source": [
    "from selenium import webdriver\n",
    "from bs4 import BeautifulSoup\n",
    "import requests\n",
    "from selenium.webdriver.common.by import By\n",
    "from selenium.webdriver.support.ui import WebDriverWait\n",
    "from selenium.webdriver.support import expected_conditions as EC\n",
    "from selenium.webdriver.common.action_chains import ActionChains\n",
    "from selenium.webdriver.chrome.options import Options\n",
    "import os\n",
    "import urllib.request\n",
    "import shutil\n",
    "import time\n",
    "\n",
    "chrome_options = Options()\n",
    "chrome_options.add_experimental_option('prefs',  {\n",
    "    \"download.default_directory\": \"Path here\",\n",
    "    \"download.prompt_for_download\": False,\n",
    "    \"download.directory_upgrade\": True,\n",
    "    \"plugins.always_open_pdf_externally\": True\n",
    "    }\n",
    ")"
   ]
  },
  {
   "cell_type": "markdown",
   "metadata": {},
   "source": [
    "### x_path를 이용한 태그 접근 후 url 및 title 이름 가져오기"
   ]
  },
  {
   "cell_type": "code",
   "execution_count": null,
   "metadata": {
    "scrolled": true
   },
   "outputs": [],
   "source": [
    "pdf_list =[]\n",
    "title_list =[]\n",
    "for number in range(0, 11):\n",
    "    driver = webdriver.Chrome('C:/chrome/chromedriver.exe')\n",
    "    driver.implicitly_wait(3)\n",
    "    url_list = []\n",
    "    url_title_list = []\n",
    "    # 이더리움 + pdf 검색 결과의 URL\n",
    "    ## start= 이후는 10단위로 페이지를 타나내기 때문에 해당 페이지 숫자 전후로 first랑 second 나누어서 구분\n",
    "    first_url = 'https://www.google.com/search?q=이더리움+pdf&tbs=qdr:y&ei=WG0-XZa2Jc-Gr7wPi_Os6AI&start='\n",
    "    second_url = '&sa=N&ved=0ahUKEwiWwvX_nNnjAhVPw4sBHYs5Cy0Q8tMDCIAB&biw=1745&bih=846'\n",
    "    url_add = first_url+str(number*10)+second_url\n",
    "\n",
    "    driver.get(url_add)\n",
    "    \n",
    "    try:\n",
    "        # x_path copy\n",
    "        for i in range(1, 11):\n",
    "            x_path_a = \"//*[@id='rso']/div/div/div[\"+str(i)+\"]/div/div/div[1]/a\"\n",
    "            x_path_h3 = \"//*[@id='rso']/div/div/div[\"+str(i)+\"]/div/div/div[1]/a[1]/h3\"\n",
    "            \n",
    "            urlss = driver.find_element_by_xpath(x_path_a)\n",
    "            urlsss = driver.find_element_by_xpath(x_path_h3)\n",
    "            \n",
    "            \n",
    "            url_list.append(urlss.get_attribute('href'))\n",
    "            url_title_list.append(urlsss.text)\n",
    "        \n",
    "        for j in range(0, len(url_list)):\n",
    "            item = url_list[j]\n",
    "            if 'pdf' in item[-3:] :\n",
    "                pdf_list.append(item)\n",
    "                title_list.append(url_title_list[j])\n",
    "        \n",
    "        time.sleep(3)\n",
    "    except:\n",
    "        print(\"error\")\n",
    "    finally:\n",
    "        driver.quit() "
   ]
  },
  {
   "cell_type": "markdown",
   "metadata": {},
   "source": [
    "### 제목에 :(colon) 을 포함하는 경우 파일이 짤릴 수 있으므로"
   ]
  },
  {
   "cell_type": "code",
   "execution_count": null,
   "metadata": {},
   "outputs": [],
   "source": [
    "\n",
    "for i in range(0,len(title_list)):\n",
    "    if ':' in title_list[i]:\n",
    "        title_list[i] = title_list[i].replace(\":\", \",\")\n",
    "\n",
    "for i in range(0, len(title_list)):\n",
    "    print(\"[\"+str(i)+\"]\"+title_list[i])\n"
   ]
  },
  {
   "cell_type": "markdown",
   "metadata": {},
   "source": [
    "### 다운로드 파트"
   ]
  },
  {
   "cell_type": "code",
   "execution_count": null,
   "metadata": {},
   "outputs": [],
   "source": [
    "for i in range(0, len(pdf_list)):\n",
    "    try:\n",
    "        url = pdf_list[i]\n",
    "        myfile = requests.get(url)\n",
    "        open('D:/Downloads/이더리움1/['+str(i)+']'+title_list[i]+'.pdf', 'wb').write(myfile.content)\n",
    "        print(pdf_list[i])\n",
    "    except:\n",
    "        print('wrong division')"
   ]
  },
  {
   "cell_type": "markdown",
   "metadata": {},
   "source": [
    "### 출력 해보기"
   ]
  },
  {
   "cell_type": "code",
   "execution_count": null,
   "metadata": {
    "scrolled": false
   },
   "outputs": [],
   "source": [
    "\n",
    "for i in range(0, len(pdf_list)):\n",
    "    print(pdf_list[i])\n",
    "    print(title_list[i])\n",
    "    print(\"\")\n"
   ]
  }
 ],
 "metadata": {
  "kernelspec": {
   "display_name": "Python 3",
   "language": "python",
   "name": "python3"
  },
  "language_info": {
   "codemirror_mode": {
    "name": "ipython",
    "version": 3
   },
   "file_extension": ".py",
   "mimetype": "text/x-python",
   "name": "python",
   "nbconvert_exporter": "python",
   "pygments_lexer": "ipython3",
   "version": "3.7.3"
  }
 },
 "nbformat": 4,
 "nbformat_minor": 2
}
